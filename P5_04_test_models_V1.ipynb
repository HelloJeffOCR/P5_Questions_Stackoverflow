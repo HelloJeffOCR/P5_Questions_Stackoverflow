{
 "cells": [
  {
   "cell_type": "code",
   "execution_count": 1,
   "id": "0ca548a0",
   "metadata": {},
   "outputs": [],
   "source": [
    "import pandas as pd\n",
    "import nltk as nltk\n",
    "import numpy as np\n",
    "from skmultilearn.model_selection import iterative_train_test_split\n",
    "from sklearn.model_selection import train_test_split\n",
    "from sklearn.dummy import DummyClassifier\n",
    "import timeit\n",
    "from sklearn.model_selection import GridSearchCV\n",
    "import matplotlib.pyplot as plt\n",
    "import seaborn as sns\n",
    "from sklearn.base import BaseEstimator, TransformerMixin\n",
    "from sklearn.pipeline import Pipeline\n",
    "from sklearn.feature_extraction.text import TfidfVectorizer\n",
    "from sklearn import decomposition\n",
    "from sklearn.preprocessing import MinMaxScaler\n",
    "from bs4 import BeautifulSoup\n",
    "import re\n",
    "from nltk.corpus import stopwords\n",
    "from nltk.stem import WordNetLemmatizer\n",
    "\n",
    "pd.set_option(\"display.max_columns\", 50)\n",
    "pd.set_option(\"display.max_rows\", 200)\n"
   ]
  },
  {
   "cell_type": "code",
   "execution_count": 2,
   "id": "f4fe294e",
   "metadata": {},
   "outputs": [],
   "source": [
    "def show_values(axs, orient=\"v\", space=.01):\n",
    "    def _single(ax):\n",
    "        if orient == \"v\":\n",
    "            for p in ax.patches:\n",
    "                _x = p.get_x() + p.get_width() / 2\n",
    "                _y = p.get_y() + p.get_height() + (p.get_height()*0.01)\n",
    "                value = '{:.2f}'.format(p.get_height())\n",
    "                ax.text(_x, _y, value, ha=\"center\") \n",
    "        elif orient == \"h\":\n",
    "            for p in ax.patches:\n",
    "                _x = p.get_x() + p.get_width() + float(space)\n",
    "                _y = p.get_y() + p.get_height() - (p.get_height()*0.5)\n",
    "                value = '{:.2f}'.format(p.get_width())\n",
    "                ax.text(_x, _y, value, ha=\"left\")\n",
    "\n",
    "    if isinstance(axs, np.ndarray):\n",
    "        for idx, ax in np.ndenumerate(axs):\n",
    "            _single(ax)\n",
    "    else:\n",
    "        _single(axs)\n"
   ]
  },
  {
   "cell_type": "markdown",
   "id": "6a5fb28a",
   "metadata": {},
   "source": [
    "Navigation vers le dossier source"
   ]
  },
  {
   "cell_type": "code",
   "execution_count": 6,
   "id": "34ac8e23",
   "metadata": {},
   "outputs": [
    {
     "name": "stdout",
     "output_type": "stream",
     "text": [
      "/Users/jfv/Desktop/Formation_Ingenieur_Machine_Learning/P5_voelker_jean-florent/P5_suggestion_de_tag\n"
     ]
    }
   ],
   "source": [
    "cd ../P5_suggestion_de_tag"
   ]
  },
  {
   "cell_type": "markdown",
   "id": "383cff67",
   "metadata": {},
   "source": [
    "Chargement des données d'entrée"
   ]
  },
  {
   "cell_type": "code",
   "execution_count": 7,
   "id": "defd7a19",
   "metadata": {},
   "outputs": [],
   "source": [
    "question_df = pd.read_csv(\"df_question_cleaned.csv\", delimiter=\",\")\n",
    "question_df = question_df.drop('Unnamed: 0', axis=1)\n",
    "\n",
    "question_columns = question_df.columns"
   ]
  },
  {
   "cell_type": "code",
   "execution_count": null,
   "id": "f8ce37e2",
   "metadata": {},
   "outputs": [],
   "source": [
    "tags_df = pd.read_csv(\"df_tags_cleaned.csv\", delimiter=\",\")\n",
    "tags_df = tags_df.drop('Unnamed: 0', axis=1)\n",
    "\n",
    "tags_columns = tags_df.columns\n",
    "tags_df = pd.DataFrame(tags_df.values)"
   ]
  },
  {
   "cell_type": "markdown",
   "id": "baaaa0f8",
   "metadata": {},
   "source": [
    "# Séparation des données en train_dataset et test_dataset"
   ]
  },
  {
   "cell_type": "code",
   "execution_count": 242,
   "id": "82a63aba",
   "metadata": {},
   "outputs": [],
   "source": [
    "X_train, y_train, X_test, y_test = iterative_train_test_split(np.array(question_df), np.array(tags_df), test_size = 0.25)"
   ]
  },
  {
   "cell_type": "markdown",
   "id": "4d3a68c1",
   "metadata": {},
   "source": [
    "# Entrainement des Classifieurs"
   ]
  },
  {
   "cell_type": "markdown",
   "id": "7c5209cd",
   "metadata": {},
   "source": [
    "#### Import des méthodes de classification multiclass qui permettent d'utiliser des estimateurs binaires"
   ]
  },
  {
   "cell_type": "code",
   "execution_count": 243,
   "id": "589dc821",
   "metadata": {},
   "outputs": [],
   "source": [
    "from sklearn.multiclass import OneVsRestClassifier"
   ]
  },
  {
   "cell_type": "markdown",
   "id": "5fecff3e",
   "metadata": {},
   "source": [
    "#### Import des estimateurs binaires ou linéaires"
   ]
  },
  {
   "cell_type": "code",
   "execution_count": 244,
   "id": "40be3c3a",
   "metadata": {},
   "outputs": [],
   "source": [
    "from sklearn.linear_model import LogisticRegression\n",
    "from sklearn.svm import SVC\n",
    "from sklearn.naive_bayes import GaussianNB\n",
    "from sklearn.ensemble import RandomForestClassifier"
   ]
  },
  {
   "cell_type": "code",
   "execution_count": 316,
   "id": "b6b1d879",
   "metadata": {},
   "outputs": [],
   "source": [
    "estimators = {\n",
    "    \"LogisticRegression\": LogisticRegression(),\n",
    "    \"SVC\": SVC(),\n",
    "    \"GaussianNB\": GaussianNB(),\n",
    "    \"DummyClassifier\": DummyClassifier(),\n",
    "}\n",
    "\n",
    "estimators_list=[\"LogisticRegression\",\"SVC\",\"GaussianNB\",\"DummyClassifier\"]"
   ]
  },
  {
   "cell_type": "markdown",
   "id": "9c8274d5",
   "metadata": {},
   "source": [
    "#### Définition des paramètres d'optimization"
   ]
  },
  {
   "cell_type": "code",
   "execution_count": 317,
   "id": "4926c8bb",
   "metadata": {},
   "outputs": [],
   "source": [
    "param_grid ={\n",
    "    \"LogisticRegression\": {\n",
    "        \"estimator__C\": np.logspace(-3,3,7),\n",
    "        \"estimator__penalty\": [\"l2\"],\n",
    "        \"estimator__solver\": [\"newton-cg\", \"lbfgs\", \"sag\"],\n",
    "        \"estimator__max_iter\": [10000]\n",
    "    },\n",
    "    \"LogisticRegression\": {\n",
    "        \"estimator__C\": np.logspace(-3,3,7),\n",
    "        \"estimator__penalty\": [\"l2\",\"l1\"],\n",
    "        \"estimator__solver\": [\"liblinear\",\"saga\"],\n",
    "        \"estimator__max_iter\": [10000]\n",
    "    },\n",
    "    \"SVC\": {\n",
    "        \"estimator__kernel\": [\"linear\", \"poly\", \"rbf\"] ,\n",
    "        \"estimator__gamma\": [\"scale\", \"auto\"],\n",
    "        \"estimator__C\": np.logspace(-1,3,5)\n",
    "    },\n",
    "    \"GaussianNB\": {\n",
    "        \"estimator__var_smoothing\": np.logspace(0,-9, num=20)\n",
    "    },\n",
    "    \"DummyClassifier\":{\n",
    "        \"estimator__strategy\":[\"stratified\"],\n",
    "        \"estimator__random_state\":[0]\n",
    "    }\n",
    "}\n"
   ]
  },
  {
   "cell_type": "markdown",
   "id": "442b657b",
   "metadata": {},
   "source": [
    "#### Import des méthodes de scoring"
   ]
  },
  {
   "cell_type": "code",
   "execution_count": 318,
   "id": "a933ff37",
   "metadata": {},
   "outputs": [],
   "source": [
    "from sklearn.metrics import accuracy_score\n",
    "from sklearn.metrics import f1_score\n",
    "from sklearn.metrics import roc_auc_score "
   ]
  },
  {
   "cell_type": "markdown",
   "id": "c1da97bf",
   "metadata": {},
   "source": [
    "#### Classification selon la méthode OneVsRestClassifier"
   ]
  },
  {
   "cell_type": "markdown",
   "id": "f18b0038",
   "metadata": {},
   "source": [
    "J'effectue une classification sur un"
   ]
  },
  {
   "cell_type": "markdown",
   "id": "622eccf0",
   "metadata": {},
   "source": [
    "Je recherche le meilleur tuning pour chaque estimator que fitte sur les données d'entrainement."
   ]
  },
  {
   "cell_type": "code",
   "execution_count": 319,
   "id": "608e9c3b",
   "metadata": {},
   "outputs": [
    {
     "name": "stdout",
     "output_type": "stream",
     "text": [
      "Fitting of LogisticRegression\n",
      "LogisticRegression model fitted, time 10803.23s\n",
      "Voici les meilleurs paramètres du modèle :\n",
      "{'estimator__C': 10.0, 'estimator__max_iter': 10000, 'estimator__penalty': 'l1', 'estimator__solver': 'liblinear'}\n",
      "Fitting of SVC\n",
      "SVC model fitted, time 8336.91s\n",
      "Voici les meilleurs paramètres du modèle :\n",
      "{'estimator__C': 1000.0, 'estimator__gamma': 'auto', 'estimator__kernel': 'rbf'}\n",
      "Fitting of GaussianNB\n",
      "GaussianNB model fitted, time 139.10s\n",
      "Voici les meilleurs paramètres du modèle :\n",
      "{'estimator__var_smoothing': 1.0}\n",
      "Fitting of DummyClassifier\n",
      "DummyClassifier model fitted, time 0.33s\n",
      "Voici les meilleurs paramètres du modèle :\n",
      "{'estimator__random_state': 0, 'estimator__strategy': 'stratified'}\n"
     ]
    },
    {
     "name": "stderr",
     "output_type": "stream",
     "text": [
      "/Users/jfv/opt/anaconda3/lib/python3.8/site-packages/sklearn/utils/deprecation.py:103: FutureWarning: `n_features_in_` is deprecated in 1.0 and will be removed in 1.2.\n",
      "  warnings.warn(msg, category=FutureWarning)\n"
     ]
    }
   ],
   "source": [
    "OneVsRestClassifier_fitted_model={}\n",
    "\n",
    "for estimator in estimators_list:\n",
    "    print('Fitting of '+estimator)\n",
    "    \n",
    "    start_time = timeit.default_timer()\n",
    "    model_to_set = OneVsRestClassifier(estimators[estimator])\n",
    "    \n",
    "    clf = GridSearchCV(\n",
    "        model_to_set,\n",
    "        param_grid[estimator],\n",
    "        n_jobs=-1,\n",
    "        scoring=\"accuracy\",\n",
    "        cv=5\n",
    "    )\n",
    "\n",
    "    OneVsRestClassifier_fitted_model[estimator]=clf.fit(X_train, y_train)\n",
    "    \n",
    "    end_time = timeit.default_timer()\n",
    "    elapsed = end_time - start_time\n",
    "    \n",
    "    print(\"{} model fitted, time {:.2f}s\".format(estimator, elapsed))\n",
    "    print(\"Voici les meilleurs paramètres du modèle :\")\n",
    "    print(clf.best_params_)\n",
    "    "
   ]
  },
  {
   "cell_type": "code",
   "execution_count": 320,
   "id": "3f3bc56a",
   "metadata": {},
   "outputs": [],
   "source": [
    "Classifier_result=[]\n",
    "\n",
    "for estimator in estimators_list:\n",
    "    \n",
    "    #prédiction des classifications\n",
    "    y_predicted=OneVsRestClassifier_fitted_model[estimator].predict(X_test)\n",
    "\n",
    "    #calcul des scores de prédiction\n",
    "    accuracy_scoring=accuracy_score(y_true=y_test,y_pred=y_predicted)\n",
    "    F1_averaged_score=f1_score(y_true=y_test, y_pred=y_predicted,average='weighted', zero_division=1)\n",
    "    auc = roc_auc_score(y_test, y_predicted)\n",
    "    \n",
    "    Classifier_result.append(['OneVsRest',estimator,'Accuracy score',accuracy_scoring])\n",
    "    Classifier_result.append(['OneVsRest',estimator,'F1 averaged score',F1_averaged_score])\n",
    "    Classifier_result.append(['OneVsRest',estimator,'ROC AUC Score',auc])"
   ]
  },
  {
   "cell_type": "code",
   "execution_count": 321,
   "id": "88cad6c9",
   "metadata": {},
   "outputs": [
    {
     "data": {
      "image/png": "[encoded data removed]",
      "text/plain": [
       "<Figure size 1152x648 with 1 Axes>"
      ]
     },
     "metadata": {},
     "output_type": "display_data"
    }
   ],
   "source": [
    "scores_df = pd.DataFrame(Classifier_result)\n",
    "\n",
    "barWidth = 0.25\n",
    "plt.figure(figsize=(16, 9))\n",
    "sns.set(style='dark')\n",
    "p=sns.barplot(x=1, y=3, hue=2, data=scores_df)\n",
    "show_values(p)\n",
    "plt.xlabel(\"Méthodes de classification\")\n",
    "plt.ylabel(\"Score\")\n",
    "plt.title(\"Score de classification des différentes méthodes\")\n",
    "plt.grid(True)\n",
    "plt.legend()\n",
    "plt.show()"
   ]
  },
  {
   "cell_type": "markdown",
   "id": "ea485322",
   "metadata": {},
   "source": [
    "# Création du pipeline de prédiction"
   ]
  },
  {
   "cell_type": "markdown",
   "id": "e9ee6a9b",
   "metadata": {},
   "source": [
    "J'encapsule les étapes de prétraitement dans un Custom Transformer:"
   ]
  },
  {
   "cell_type": "code",
   "execution_count": 322,
   "id": "044ed761",
   "metadata": {},
   "outputs": [],
   "source": [
    "class PreprocessingDataTransformer(BaseEstimator, TransformerMixin):\n",
    "    def __init__(self):\n",
    "        super().__init__()\n",
    "\n",
    "    def fit(self, X, y=None):\n",
    "        return self\n",
    "\n",
    "    def transform(self, X, y=None):\n",
    "        CleanedData=[]\n",
    "        \n",
    "        for body in X:\n",
    "            new_text=body_to_words(body[0])\n",
    "            CleanedData.append(new_text)\n",
    "        \n",
    "        return CleanedData\n",
    "\n",
    "    \n",
    "def body_to_words(raw_text):\n",
    "    # 1. Retirer les balises HTML\n",
    "    review_text = BeautifulSoup(raw_text,\"html.parser\").get_text() \n",
    "    #\n",
    "    # 2. Retirer les caractères non-letters        \n",
    "    letters_only = re.sub(\"[^a-zA-Z]\", \" \", review_text) \n",
    "    #\n",
    "    # 3. convertir les lettres en minuscules, split into individual words\n",
    "    words = letters_only.lower().split()                              \n",
    "\n",
    "\n",
    "    # 4. Création d'un set de stopwords\n",
    "    stops = set(stopwords.words(\"english\"))        \n",
    "\n",
    "    # 5. Retirer les stopwords du body\n",
    "    words = [w for w in words if not w in stops]   \n",
    "\n",
    "    # 6. Retirer les répétitions de lettres type : \"aaa\", \"bbbbbbb\", etc...\n",
    "    words = [w for w in words if bool(re.search(r\"(.)\\1+\",w))==False]\n",
    "\n",
    "\n",
    "    #J'initialise un lemminizer celui-ci va plus loin qu'un stemmer en effectuant un contextualisation\n",
    "    lemmatizer = WordNetLemmatizer()\n",
    "\n",
    "    # loop for stemming each word\n",
    "    # in string array at ith row   \n",
    "    meaningful_words = [lemmatizer.lemmatize(word) for word in words]\n",
    "\n",
    "    # 6. Jointure de tous les mots conservés et retour du résultat \n",
    "    return( \" \".join(meaningful_words))   \n"
   ]
  },
  {
   "cell_type": "code",
   "execution_count": 323,
   "id": "75ac5149",
   "metadata": {},
   "outputs": [],
   "source": [
    "class DensifierTransformer(BaseEstimator, TransformerMixin):\n",
    "    def __init__(self):\n",
    "        super().__init__()\n",
    "\n",
    "    def fit(self, X, y=None):\n",
    "        return self\n",
    "\n",
    "    def transform(self, X, y=None):\n",
    "        return X.toarray()\n",
    "        #return self"
   ]
  },
  {
   "cell_type": "code",
   "execution_count": 324,
   "id": "746a4f88",
   "metadata": {},
   "outputs": [],
   "source": [
    "ClassifierBestParams = OneVsRestClassifier_fitted_model[\"SVC\"].best_params_"
   ]
  },
  {
   "cell_type": "code",
   "execution_count": 335,
   "id": "da6b5f18",
   "metadata": {},
   "outputs": [],
   "source": [
    "n_comp = question_df.shape[1]"
   ]
  },
  {
   "cell_type": "code",
   "execution_count": 336,
   "id": "48bcb0a5",
   "metadata": {},
   "outputs": [],
   "source": [
    "pipeline = Pipeline(\n",
    "    steps=[\n",
    "        ('PreprocessingDataTransformer',PreprocessingDataTransformer()),\n",
    "        ('tfidf_vectorizer', TfidfVectorizer(min_df=0.001,max_df=0.75,  ngram_range=(1, 1))),\n",
    "        ('densifierTransformer',DensifierTransformer()),\n",
    "        ('pca', decomposition.PCA(n_components=n_comp)),\n",
    "        ('clf',\n",
    "           OneVsRestClassifier(SVC(\n",
    "                C=ClassifierBestParams['estimator__C'],\n",
    "                kernel=ClassifierBestParams['estimator__kernel'],\n",
    "                gamma=ClassifierBestParams['estimator__gamma'],\n",
    "            )\n",
    "           )                   \n",
    "        )\n",
    "    ]\n",
    ")"
   ]
  },
  {
   "cell_type": "markdown",
   "id": "a3d7b685",
   "metadata": {},
   "source": [
    "J'importe les données brutes"
   ]
  },
  {
   "cell_type": "code",
   "execution_count": 337,
   "id": "6f8cb9a5",
   "metadata": {},
   "outputs": [],
   "source": [
    "RawDataset = pd.read_csv(\"QueryResults.csv\", delimiter=\",\")\n",
    "RawDataset_array=RawDataset.dropna()"
   ]
  },
  {
   "cell_type": "code",
   "execution_count": 338,
   "id": "6e51f4c9",
   "metadata": {},
   "outputs": [],
   "source": [
    "RawDataset_array=RawDataset_array.iloc[:5000,:]"
   ]
  },
  {
   "cell_type": "code",
   "execution_count": 339,
   "id": "d96de439",
   "metadata": {},
   "outputs": [],
   "source": [
    "RawDataset_array_2=RawDataset_array['Title']+RawDataset_array['Body']"
   ]
  },
  {
   "cell_type": "code",
   "execution_count": 340,
   "id": "4687a2ad",
   "metadata": {},
   "outputs": [],
   "source": [
    "RawDataset_array_2=pd.DataFrame(RawDataset_array_2)"
   ]
  },
  {
   "cell_type": "markdown",
   "id": "b408fbef",
   "metadata": {},
   "source": [
    "J'entraine mon pipeline sur les données complètes:"
   ]
  },
  {
   "cell_type": "code",
   "execution_count": 341,
   "id": "41bb3b1b",
   "metadata": {
    "scrolled": false
   },
   "outputs": [
    {
     "name": "stdout",
     "output_type": "stream",
     "text": [
      "Pipeline fitted, time 50.80s\n"
     ]
    }
   ],
   "source": [
    "start_time = timeit.default_timer()\n",
    "\n",
    "pipeline.fit(np.array(RawDataset_array_2), np.array(tags_df))\n",
    "\n",
    "end_time = timeit.default_timer()\n",
    "elapsed = end_time - start_time\n",
    "\n",
    "print(\"Pipeline fitted, time {:.2f}s\".format(elapsed))"
   ]
  },
  {
   "cell_type": "markdown",
   "id": "708b0bd8",
   "metadata": {},
   "source": [
    "Je serialise mon pipeline (stockage numérique d'un objet):"
   ]
  },
  {
   "cell_type": "code",
   "execution_count": 342,
   "id": "91ff8df9",
   "metadata": {},
   "outputs": [],
   "source": [
    "import joblib"
   ]
  },
  {
   "cell_type": "code",
   "execution_count": 378,
   "id": "0a49ff9d",
   "metadata": {},
   "outputs": [
    {
     "data": {
      "text/plain": [
       "['../tagging_api/tagging_classifieur.joblib']"
      ]
     },
     "execution_count": 378,
     "metadata": {},
     "output_type": "execute_result"
    }
   ],
   "source": [
    "joblib.dump(pipeline, '../tagging_api/tagging_classifieur.joblib')"
   ]
  },
  {
   "cell_type": "markdown",
   "id": "f42214fc",
   "metadata": {},
   "source": [
    "Je serialise la liste des tags retenus:"
   ]
  },
  {
   "cell_type": "code",
   "execution_count": 347,
   "id": "50b4690b",
   "metadata": {},
   "outputs": [
    {
     "data": {
      "text/plain": [
       "['../tagging_api/liste_tags_retenus.joblib']"
      ]
     },
     "execution_count": 347,
     "metadata": {},
     "output_type": "execute_result"
    }
   ],
   "source": [
    "joblib.dump(tags_columns, '../tagging_api/liste_tags_retenus.joblib')"
   ]
  },
  {
   "cell_type": "markdown",
   "id": "474ee478",
   "metadata": {},
   "source": [
    "#### Classification selon la méthode LatentDirichletAllocation"
   ]
  },
  {
   "cell_type": "markdown",
   "id": "75366788",
   "metadata": {},
   "source": [
    "Je chargeles données d'entrée nettoyées sans PCA, ce qui permettra d'interpréter le résultat de la LDA"
   ]
  },
  {
   "cell_type": "code",
   "execution_count": 8,
   "id": "cf5a138b",
   "metadata": {},
   "outputs": [],
   "source": [
    "question_lda_df = pd.read_csv(\"df_question_cleaned_without_pca.csv\", delimiter=\",\")\n",
    "question_lda_df = question_lda_df.drop('Unnamed: 0', axis=1)"
   ]
  },
  {
   "cell_type": "markdown",
   "id": "be590031",
   "metadata": {},
   "source": [
    "Je sépare le jeu de données entre train et test-dataset/"
   ]
  },
  {
   "cell_type": "code",
   "execution_count": 9,
   "id": "1a8c017f",
   "metadata": {},
   "outputs": [],
   "source": [
    "X_train_lda, X_test_lda= train_test_split(question_lda_df, test_size=0.25, random_state=42)"
   ]
  },
  {
   "cell_type": "markdown",
   "id": "76cec15c",
   "metadata": {},
   "source": [
    "J'entraine sur X_train_positive_scaling et optimize un modèle LatentDirichletAllocation"
   ]
  },
  {
   "cell_type": "code",
   "execution_count": 12,
   "id": "e37f40d3",
   "metadata": {},
   "outputs": [
    {
     "name": "stdout",
     "output_type": "stream",
     "text": [
      "Pipeline fitted, time 769.69s\n"
     ]
    }
   ],
   "source": [
    "# Define Search Param\n",
    "search_params = {\n",
    "    'n_components': [4, 5, 6, 7, 8, 9, 10,11,12,13,14,15, 20, 25, 30], \n",
    "    'learning_decay': [.5, .7, .9]\n",
    "}\n",
    "\n",
    "# Init the Model\n",
    "lda = decomposition.LatentDirichletAllocation(\n",
    "        max_iter=10, \n",
    "        learning_method='online', \n",
    "        learning_offset=50.,\n",
    "        random_state=0)\n",
    "\n",
    "# Init Grid Search Class\n",
    "model = GridSearchCV(lda, param_grid=search_params, cv=5)\n",
    "\n",
    "# Enregistrement de l'heure de début\n",
    "start_time = timeit.default_timer()\n",
    "\n",
    "# Do the Grid Search\n",
    "lda_fitted=model.fit(X_train_lda)\n",
    "\n",
    "# enregistrement de l'heure de fin et calcul de la durée\n",
    "end_time = timeit.default_timer()\n",
    "elapsed = end_time - start_time\n",
    "\n",
    "print(\"Pipeline fitted, time {:.2f}s\".format(elapsed))\n"
   ]
  },
  {
   "cell_type": "code",
   "execution_count": 13,
   "id": "86f77851",
   "metadata": {
    "scrolled": true
   },
   "outputs": [
    {
     "data": {
      "image/png": "[encoded data removed]",
      "text/plain": [
       "<Figure size 432x288 with 1 Axes>"
      ]
     },
     "metadata": {
      "needs_background": "light"
     },
     "output_type": "display_data"
    }
   ],
   "source": [
    "mean_score=lda_fitted.cv_results_[\"mean_test_score\"]\n",
    "taille_serie = len(search_params[\"n_components\"])\n",
    "\n",
    "i=0\n",
    "for learning_decay in search_params[\"learning_decay\"]:\n",
    "    plt.plot(search_params[\"n_components\"], mean_score[i*taille_serie:(i+1)*taille_serie], label='learning_decay: ' + str(learning_decay))\n",
    "    i+=1\n",
    "    \n",
    "plt.legend()\n",
    "plt.xlabel('n_components')\n",
    "plt.ylabel('Vraisemblance')\n",
    "plt.grid(True)\n",
    "plt.show()"
   ]
  },
  {
   "cell_type": "markdown",
   "id": "a3bc90b0",
   "metadata": {},
   "source": [
    "Je choisis la configuration avec 10 thèmes et un learning_decay de 0.5"
   ]
  },
  {
   "cell_type": "markdown",
   "id": "da28e6d8",
   "metadata": {},
   "source": [
    "Je récupère le meilleur estimateur entraîné"
   ]
  },
  {
   "cell_type": "code",
   "execution_count": 561,
   "id": "56519ca2",
   "metadata": {},
   "outputs": [],
   "source": [
    "lda_model = decomposition.LatentDirichletAllocation(\n",
    "        max_iter=10, \n",
    "        learning_method='online', \n",
    "        learning_offset=50.,\n",
    "        random_state=0,\n",
    "        n_components=10, \n",
    "        learning_decay=.5\n",
    ")\n",
    "\n",
    "lda_fitted=lda_model.fit(X_train_lda)"
   ]
  },
  {
   "cell_type": "markdown",
   "id": "888b2db4",
   "metadata": {},
   "source": [
    "J'affiche les mots les plus représentatifs des sujets modélisés"
   ]
  },
  {
   "cell_type": "code",
   "execution_count": 562,
   "id": "23321802",
   "metadata": {
    "scrolled": true
   },
   "outputs": [
    {
     "name": "stdout",
     "output_type": "stream",
     "text": [
      "Topic 0:\n",
      "git android px layout branch height\n",
      "Topic 1:\n",
      "url json php server request data\n",
      "Topic 2:\n",
      "file window directory path script project\n",
      "Topic 3:\n",
      "string value list like way function\n",
      "Topic 4:\n",
      "ruby font li ul weight navbar\n",
      "Topic 5:\n",
      "div image html jquery option text\n",
      "Topic 6:\n",
      "table sql column row database query\n",
      "Topic 7:\n",
      "eclipse studio visual proxy binding block\n",
      "Topic 8:\n",
      "java thread org play hibernate download\n",
      "Topic 9:\n",
      "regex extract numpy sum match regular\n"
     ]
    }
   ],
   "source": [
    "def display_topics(model, feature_names, no_top_words):\n",
    "    for topic_idx, topic in enumerate(model.components_):\n",
    "        print(\"Topic {}:\".format(topic_idx))\n",
    "        print(\" \".join([feature_names[i] for i in topic.argsort()[:-no_top_words - 1:-1]]))\n",
    "\n",
    "no_top_words = 6\n",
    "display_topics(lda_model, question_lda_df.columns, no_top_words)"
   ]
  }
 ],
 "metadata": {
  "kernelspec": {
   "display_name": "Python 3 (ipykernel)",
   "language": "python",
   "name": "python3"
  },
  "language_info": {
   "codemirror_mode": {
    "name": "ipython",
    "version": 3
   },
   "file_extension": ".py",
   "mimetype": "text/x-python",
   "name": "python",
   "nbconvert_exporter": "python",
   "pygments_lexer": "ipython3",
   "version": "3.8.8"
  },
  "varInspector": {
   "cols": {
    "lenName": 16,
    "lenType": 16,
    "lenVar": 40
   },
   "kernels_config": {
    "python": {
     "delete_cmd_postfix": "",
     "delete_cmd_prefix": "del ",
     "library": "var_list.py",
     "varRefreshCmd": "print(var_dic_list())"
    },
    "r": {
     "delete_cmd_postfix": ") ",
     "delete_cmd_prefix": "rm(",
     "library": "var_list.r",
     "varRefreshCmd": "cat(var_dic_list()) "
    }
   },
   "types_to_exclude": [
    "module",
    "function",
    "builtin_function_or_method",
    "instance",
    "_Feature"
   ],
   "window_display": false
  }
 },
 "nbformat": 4,
 "nbformat_minor": 5
}
